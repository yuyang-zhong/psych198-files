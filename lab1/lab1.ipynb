{
 "cells": [
  {
   "cell_type": "markdown",
   "metadata": {},
   "source": [
    "# Psych 198: Reproducibility DeCal (Spring 2021)\n",
    "\n",
    "## Demo/Lab 1: Hypothesis Testing & Statistical Significance\n",
    "\n",
    "In this demo/lab, we will go through the basic steps we usually do for hypothesis testing in R, and take a look at some issues with how p-values are reported (excerpt from my personal project).\n",
    "\n",
    "Author: Yuyang Zhong (2020). This work is licensed under a [Creative Commons BY-NC-SA 4.0 International\n",
    "License][cc-by].\n",
    "\n",
    "![CC BY-NC-SA 4.0][cc-by-shield]\n",
    "\n",
    "[cc-by]: http://creativecommons.org/licenses/by/4.0/\n",
    "[cc-by-shield]: https://img.shields.io/badge/license-CC--BY--NC--SA%204.0-blue\n",
    "\n",
    "#### Note on using Jupyter Notebooks \n",
    "Enter code into a code cell, then press SHIFT+Enter to run that cell. The output of the code should be shown right underneath the cell you just run."
   ]
  },
  {
   "cell_type": "markdown",
   "metadata": {},
   "source": [
    "### Part 1: Running Hypothesis Tests\n",
    "\n",
    "In this part, we will use the Canadian Women's Labour-Force Participation Dataset to take a look. \n",
    "\n",
    "Run the cell below to import the library we need."
   ]
  },
  {
   "cell_type": "code",
   "execution_count": null,
   "metadata": {},
   "outputs": [],
   "source": [
    "install.packages('tidyverse')\n",
    "\n",
    "library(car)\n",
    "library(tidyverse)"
   ]
  },
  {
   "cell_type": "markdown",
   "metadata": {},
   "source": [
    "Our dataframe is called `Bfox`. Run the cell below to display the first few rows."
   ]
  },
  {
   "cell_type": "code",
   "execution_count": null,
   "metadata": {},
   "outputs": [],
   "source": [
    "head(Bfox)"
   ]
  },
  {
   "cell_type": "markdown",
   "metadata": {},
   "source": [
    "#### Simple Linear Regression\n",
    "`womwage` vs. `tfr` - Women average weekly wages vs. total fertility rate."
   ]
  },
  {
   "cell_type": "code",
   "execution_count": null,
   "metadata": {},
   "outputs": [],
   "source": [
    "mod1 <- lm(womwage ~ tfr, data=Bfox)\n",
    "summary(mod1)"
   ]
  },
  {
   "cell_type": "markdown",
   "metadata": {},
   "source": [
    "**Question:** What is the p-values reported in this relationship? What is the test statistic?"
   ]
  },
  {
   "cell_type": "markdown",
   "metadata": {},
   "source": [
    "#### Multivariate Linear Regression\n",
    "\n",
    "`womwage` vs. `tfr` + `parttime` - Women average weekly wages vs. total fertility rate + part time workforce."
   ]
  },
  {
   "cell_type": "code",
   "execution_count": null,
   "metadata": {},
   "outputs": [],
   "source": [
    "mod2 <- lm(womwage ~ tfr + parttime, data=Bfox)\n",
    "summary(mod2)"
   ]
  },
  {
   "cell_type": "markdown",
   "metadata": {},
   "source": [
    "**Question:** What happened here? What became nonsignificant?"
   ]
  },
  {
   "cell_type": "markdown",
   "metadata": {},
   "source": [
    "#### Interaction Model\n",
    "\n",
    "`womwage` vs. `tfr` X `parttime` - Women average weekly wages vs. total fertility rate X part time workforce."
   ]
  },
  {
   "cell_type": "code",
   "execution_count": null,
   "metadata": {},
   "outputs": [],
   "source": [
    "mod3 <- lm(womwage ~ tfr * parttime, data=Bfox)\n",
    "summary(mod3)"
   ]
  },
  {
   "cell_type": "markdown",
   "metadata": {},
   "source": [
    "**Question:** What does the interaction model tell us more compared to the multivariate model in the previous section?"
   ]
  },
  {
   "cell_type": "markdown",
   "metadata": {},
   "source": [
    "### Part 2: Verifying p-values\n",
    "\n",
    "The following section will be comparing the p-values that was reported in research articles, and a recalculation of the p-value we will compute. Run the cell below to load the data. For simplicity we will only look at F-statistics."
   ]
  },
  {
   "cell_type": "code",
   "execution_count": null,
   "metadata": {
    "scrolled": false
   },
   "outputs": [],
   "source": [
    "data <- read.csv(\"data.csv\")\n",
    "data <- data[data$Type == 'f', ]\n",
    "\n",
    "head(data)"
   ]
  },
  {
   "cell_type": "markdown",
   "metadata": {},
   "source": [
    "The following is a way to compute p-value from test statistics and its parameters. Let's look at row 2 of the dataframe."
   ]
  },
  {
   "cell_type": "code",
   "execution_count": null,
   "metadata": {},
   "outputs": [],
   "source": [
    "data[2,]"
   ]
  },
  {
   "cell_type": "markdown",
   "metadata": {},
   "source": [
    "We can take out the statistics and the parameters from this row."
   ]
  },
  {
   "cell_type": "code",
   "execution_count": null,
   "metadata": {},
   "outputs": [],
   "source": [
    "row <- data[2,]\n",
    "\n",
    "stat <- row$Stat\n",
    "df1 <- row$Param1\n",
    "df2 <- row$Param2\n",
    "\n",
    "pf(stat,df1,df2, lower.tail=F)"
   ]
  },
  {
   "cell_type": "markdown",
   "metadata": {},
   "source": [
    "**Question:** Is the calculation above correct?"
   ]
  },
  {
   "cell_type": "markdown",
   "metadata": {},
   "source": [
    "#### Let's apply our calculation to all of the rows."
   ]
  },
  {
   "cell_type": "code",
   "execution_count": null,
   "metadata": {},
   "outputs": [],
   "source": [
    "recal_data <- data %>%\n",
    "    rowwise %>%\n",
    "    mutate(recalculated.p.value = pf(q=Stat, df1=Param1, df2=Param2, lower.tail=F))\n",
    "\n",
    "head(recal_data)"
   ]
  },
  {
   "cell_type": "markdown",
   "metadata": {},
   "source": [
    "#### Can we find any rows that have mismatches in p-values?"
   ]
  },
  {
   "cell_type": "code",
   "execution_count": null,
   "metadata": {},
   "outputs": [],
   "source": [
    "recal_data[(recal_data$Reported.p.value - recal_data$recalculated.p.value <= -0.01) & recal_data$Sign != \">\", ]"
   ]
  }
 ],
 "metadata": {
  "kernelspec": {
   "display_name": "R",
   "language": "R",
   "name": "ir"
  },
  "language_info": {
   "codemirror_mode": "r",
   "file_extension": ".r",
   "mimetype": "text/x-r-source",
   "name": "R",
   "pygments_lexer": "r",
   "version": "4.0.4"
  }
 },
 "nbformat": 4,
 "nbformat_minor": 4
}
