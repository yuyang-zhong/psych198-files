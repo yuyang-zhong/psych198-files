{
 "cells": [
  {
   "cell_type": "markdown",
   "metadata": {},
   "source": [
    "# Psych 198: Reproducibility DeCal (Spring 2021)\n",
    "\n",
    "## Demo/Lab 2: Cross Validation\n",
    "\n",
    "In this demo/lab, we will go through the a typical process for cross validating a linear model. Code adopted from Psych 102 and Data 100.\n",
    "\n",
    "Author: Yuyang Zhong (2020). This work is licensed under a [Creative Commons BY-NC-SA 4.0 International\n",
    "License][cc-by]. \n",
    "\n",
    "![CC BY-NC-SA 4.0][cc-by-shield]\n",
    "\n",
    "[cc-by]: http://creativecommons.org/licenses/by/4.0/\n",
    "[cc-by-shield]: https://img.shields.io/badge/license-CC--BY--NC--SA%204.0-blue\n",
    "\n",
    "#### Note on using Jupyter Notebooks \n",
    "Enter code into a code cell, then press SHIFT+Enter to run that cell. The output of the code should be shown right underneath the cell you just run."
   ]
  },
  {
   "cell_type": "code",
   "execution_count": 1,
   "metadata": {},
   "outputs": [
    {
     "name": "stdout",
     "output_type": "stream",
     "text": [
      "\n",
      "The downloaded binary packages are in\n",
      "\t/var/folders/yg/07hqfnvn78z7x7hkd8_r1cl40000gn/T//RtmpHBkzlf/downloaded_packages\n",
      "\n",
      "The downloaded binary packages are in\n",
      "\t/var/folders/yg/07hqfnvn78z7x7hkd8_r1cl40000gn/T//RtmpHBkzlf/downloaded_packages\n"
     ]
    },
    {
     "name": "stderr",
     "output_type": "stream",
     "text": [
      "Loading required package: carData\n",
      "\n"
     ]
    }
   ],
   "source": [
    "install.packages('psychTools')\n",
    "install.packages('caTools')\n",
    "\n",
    "library(car)\n",
    "library(psychTools)\n",
    "library(caTools)"
   ]
  },
  {
   "cell_type": "markdown",
   "metadata": {},
   "source": [
    "### The Dataset\n",
    "\n",
    "We will be using the The Motivational State Questionnaire (MSQ). If you are interested in looking more into this dataset, run the code `?msq`.\n",
    "\n",
    "Let's take a look at this dataset."
   ]
  },
  {
   "cell_type": "code",
   "execution_count": 2,
   "metadata": {},
   "outputs": [
    {
     "data": {
      "text/html": [
       "<table class=\"dataframe\">\n",
       "<caption>A data.frame: 6 × 92</caption>\n",
       "<thead>\n",
       "\t<tr><th></th><th scope=col>active</th><th scope=col>afraid</th><th scope=col>alert</th><th scope=col>angry</th><th scope=col>anxious</th><th scope=col>aroused</th><th scope=col>ashamed</th><th scope=col>astonished</th><th scope=col>at.ease</th><th scope=col>at.rest</th><th scope=col>⋯</th><th scope=col>Sociability</th><th scope=col>Impulsivity</th><th scope=col>MSQ_Round</th><th scope=col>ID</th><th scope=col>condition</th><th scope=col>MSQ_Time</th><th scope=col>TOD</th><th scope=col>TOD24</th><th scope=col>scale</th><th scope=col>exper</th></tr>\n",
       "\t<tr><th></th><th scope=col>&lt;int&gt;</th><th scope=col>&lt;int&gt;</th><th scope=col>&lt;int&gt;</th><th scope=col>&lt;int&gt;</th><th scope=col>&lt;int&gt;</th><th scope=col>&lt;int&gt;</th><th scope=col>&lt;int&gt;</th><th scope=col>&lt;int&gt;</th><th scope=col>&lt;int&gt;</th><th scope=col>&lt;int&gt;</th><th scope=col>⋯</th><th scope=col>&lt;dbl&gt;</th><th scope=col>&lt;dbl&gt;</th><th scope=col>&lt;int&gt;</th><th scope=col>&lt;dbl&gt;</th><th scope=col>&lt;int&gt;</th><th scope=col>&lt;dbl&gt;</th><th scope=col>&lt;dbl&gt;</th><th scope=col>&lt;dbl&gt;</th><th scope=col>&lt;fct&gt;</th><th scope=col>&lt;fct&gt;</th></tr>\n",
       "</thead>\n",
       "<tbody>\n",
       "\t<tr><th scope=row>1</th><td>1</td><td>1</td><td>1</td><td>0</td><td> 1</td><td>1</td><td>0</td><td>0</td><td>1</td><td>1</td><td>⋯</td><td> 3</td><td>4</td><td>15</td><td> 193</td><td>2</td><td>15.30</td><td>15.00</td><td> NA</td><td>r  </td><td>Rim.1</td></tr>\n",
       "\t<tr><th scope=row>2</th><td>1</td><td>0</td><td>1</td><td>0</td><td> 0</td><td>0</td><td>0</td><td>0</td><td>1</td><td>1</td><td>⋯</td><td>11</td><td>6</td><td>15</td><td> 130</td><td>2</td><td>15.30</td><td>15.00</td><td> NA</td><td>r  </td><td>Rim.2</td></tr>\n",
       "\t<tr><th scope=row>3</th><td>1</td><td>0</td><td>0</td><td>0</td><td> 0</td><td>0</td><td>0</td><td>0</td><td>2</td><td>2</td><td>⋯</td><td> 8</td><td>5</td><td>15</td><td>2135</td><td>2</td><td>15.30</td><td>15.00</td><td> NA</td><td>r  </td><td>Rim.2</td></tr>\n",
       "\t<tr><th scope=row>4</th><td>1</td><td>0</td><td>1</td><td>0</td><td> 1</td><td>1</td><td>1</td><td>0</td><td>1</td><td>2</td><td>⋯</td><td>12</td><td>7</td><td>NA</td><td>  18</td><td>2</td><td>   NA</td><td>   NA</td><td> NA</td><td>r  </td><td>COPE </td></tr>\n",
       "\t<tr><th scope=row>5</th><td>2</td><td>0</td><td>1</td><td>0</td><td>NA</td><td>2</td><td>0</td><td>3</td><td>3</td><td>1</td><td>⋯</td><td> 5</td><td>7</td><td> 6</td><td>   2</td><td>5</td><td> 5.75</td><td> 5.83</td><td>5.5</td><td>msq</td><td>rob-1</td></tr>\n",
       "\t<tr><th scope=row>6</th><td>2</td><td>0</td><td>1</td><td>0</td><td>NA</td><td>1</td><td>0</td><td>0</td><td>1</td><td>1</td><td>⋯</td><td>10</td><td>7</td><td> 6</td><td>   3</td><td>5</td><td> 5.75</td><td> 5.83</td><td>5.5</td><td>msq</td><td>rob-1</td></tr>\n",
       "</tbody>\n",
       "</table>\n"
      ],
      "text/latex": [
       "A data.frame: 6 × 92\n",
       "\\begin{tabular}{r|lllllllllllllllllllll}\n",
       "  & active & afraid & alert & angry & anxious & aroused & ashamed & astonished & at.ease & at.rest & ⋯ & Sociability & Impulsivity & MSQ\\_Round & ID & condition & MSQ\\_Time & TOD & TOD24 & scale & exper\\\\\n",
       "  & <int> & <int> & <int> & <int> & <int> & <int> & <int> & <int> & <int> & <int> & ⋯ & <dbl> & <dbl> & <int> & <dbl> & <int> & <dbl> & <dbl> & <dbl> & <fct> & <fct>\\\\\n",
       "\\hline\n",
       "\t1 & 1 & 1 & 1 & 0 &  1 & 1 & 0 & 0 & 1 & 1 & ⋯ &  3 & 4 & 15 &  193 & 2 & 15.30 & 15.00 &  NA & r   & Rim.1\\\\\n",
       "\t2 & 1 & 0 & 1 & 0 &  0 & 0 & 0 & 0 & 1 & 1 & ⋯ & 11 & 6 & 15 &  130 & 2 & 15.30 & 15.00 &  NA & r   & Rim.2\\\\\n",
       "\t3 & 1 & 0 & 0 & 0 &  0 & 0 & 0 & 0 & 2 & 2 & ⋯ &  8 & 5 & 15 & 2135 & 2 & 15.30 & 15.00 &  NA & r   & Rim.2\\\\\n",
       "\t4 & 1 & 0 & 1 & 0 &  1 & 1 & 1 & 0 & 1 & 2 & ⋯ & 12 & 7 & NA &   18 & 2 &    NA &    NA &  NA & r   & COPE \\\\\n",
       "\t5 & 2 & 0 & 1 & 0 & NA & 2 & 0 & 3 & 3 & 1 & ⋯ &  5 & 7 &  6 &    2 & 5 &  5.75 &  5.83 & 5.5 & msq & rob-1\\\\\n",
       "\t6 & 2 & 0 & 1 & 0 & NA & 1 & 0 & 0 & 1 & 1 & ⋯ & 10 & 7 &  6 &    3 & 5 &  5.75 &  5.83 & 5.5 & msq & rob-1\\\\\n",
       "\\end{tabular}\n"
      ],
      "text/markdown": [
       "\n",
       "A data.frame: 6 × 92\n",
       "\n",
       "| <!--/--> | active &lt;int&gt; | afraid &lt;int&gt; | alert &lt;int&gt; | angry &lt;int&gt; | anxious &lt;int&gt; | aroused &lt;int&gt; | ashamed &lt;int&gt; | astonished &lt;int&gt; | at.ease &lt;int&gt; | at.rest &lt;int&gt; | ⋯ ⋯ | Sociability &lt;dbl&gt; | Impulsivity &lt;dbl&gt; | MSQ_Round &lt;int&gt; | ID &lt;dbl&gt; | condition &lt;int&gt; | MSQ_Time &lt;dbl&gt; | TOD &lt;dbl&gt; | TOD24 &lt;dbl&gt; | scale &lt;fct&gt; | exper &lt;fct&gt; |\n",
       "|---|---|---|---|---|---|---|---|---|---|---|---|---|---|---|---|---|---|---|---|---|---|\n",
       "| 1 | 1 | 1 | 1 | 0 |  1 | 1 | 0 | 0 | 1 | 1 | ⋯ |  3 | 4 | 15 |  193 | 2 | 15.30 | 15.00 |  NA | r   | Rim.1 |\n",
       "| 2 | 1 | 0 | 1 | 0 |  0 | 0 | 0 | 0 | 1 | 1 | ⋯ | 11 | 6 | 15 |  130 | 2 | 15.30 | 15.00 |  NA | r   | Rim.2 |\n",
       "| 3 | 1 | 0 | 0 | 0 |  0 | 0 | 0 | 0 | 2 | 2 | ⋯ |  8 | 5 | 15 | 2135 | 2 | 15.30 | 15.00 |  NA | r   | Rim.2 |\n",
       "| 4 | 1 | 0 | 1 | 0 |  1 | 1 | 1 | 0 | 1 | 2 | ⋯ | 12 | 7 | NA |   18 | 2 |    NA |    NA |  NA | r   | COPE  |\n",
       "| 5 | 2 | 0 | 1 | 0 | NA | 2 | 0 | 3 | 3 | 1 | ⋯ |  5 | 7 |  6 |    2 | 5 |  5.75 |  5.83 | 5.5 | msq | rob-1 |\n",
       "| 6 | 2 | 0 | 1 | 0 | NA | 1 | 0 | 0 | 1 | 1 | ⋯ | 10 | 7 |  6 |    3 | 5 |  5.75 |  5.83 | 5.5 | msq | rob-1 |\n",
       "\n"
      ],
      "text/plain": [
       "  active afraid alert angry anxious aroused ashamed astonished at.ease at.rest\n",
       "1 1      1      1     0      1      1       0       0          1       1      \n",
       "2 1      0      1     0      0      0       0       0          1       1      \n",
       "3 1      0      0     0      0      0       0       0          2       2      \n",
       "4 1      0      1     0      1      1       1       0          1       2      \n",
       "5 2      0      1     0     NA      2       0       3          3       1      \n",
       "6 2      0      1     0     NA      1       0       0          1       1      \n",
       "  ⋯ Sociability Impulsivity MSQ_Round ID   condition MSQ_Time TOD   TOD24 scale\n",
       "1 ⋯  3          4           15         193 2         15.30    15.00  NA   r    \n",
       "2 ⋯ 11          6           15         130 2         15.30    15.00  NA   r    \n",
       "3 ⋯  8          5           15        2135 2         15.30    15.00  NA   r    \n",
       "4 ⋯ 12          7           NA          18 2            NA       NA  NA   r    \n",
       "5 ⋯  5          7            6           2 5          5.75     5.83 5.5   msq  \n",
       "6 ⋯ 10          7            6           3 5          5.75     5.83 5.5   msq  \n",
       "  exper\n",
       "1 Rim.1\n",
       "2 Rim.2\n",
       "3 Rim.2\n",
       "4 COPE \n",
       "5 rob-1\n",
       "6 rob-1"
      ]
     },
     "metadata": {},
     "output_type": "display_data"
    }
   ],
   "source": [
    "head(msq)"
   ]
  },
  {
   "cell_type": "markdown",
   "metadata": {},
   "source": [
    "#### Removing duplicates"
   ]
  },
  {
   "cell_type": "code",
   "execution_count": 3,
   "metadata": {},
   "outputs": [],
   "source": [
    "sel <- complete.cases(msq[,'idle']) & complete.cases(msq[,'inspired']) & complete.cases(msq[, 'intense']) &\n",
    "       complete.cases(msq[,'interested']) & complete.cases(msq[,'irritable']) & \n",
    "       complete.cases(msq[,'satisfied']) & complete.cases(msq[,'scared']) & complete.cases(msq[,'sleepy']) &\n",
    "       complete.cases(msq[,'strong']) & complete.cases(msq[,'sociable']) & complete.cases(msq[,'happy'])\n",
    "new_msq <- msq[sel, ]"
   ]
  },
  {
   "cell_type": "markdown",
   "metadata": {},
   "source": [
    "#### Linear Model 1\n",
    "\n",
    "Using multiple linear regression, fit a general linear model to predict `happy` using all affects that start with i : `idle` + `inspired` + `intense` + `interested` + `irritable`"
   ]
  },
  {
   "cell_type": "code",
   "execution_count": 4,
   "metadata": {},
   "outputs": [
    {
     "data": {
      "text/plain": [
       "\n",
       "Call:\n",
       "lm(formula = happy ~ idle + inspired + intense + interested + \n",
       "    irritable, data = new_msq)\n",
       "\n",
       "Residuals:\n",
       "     Min       1Q   Median       3Q      Max \n",
       "-2.02371 -0.52022 -0.09635  0.50216  2.86343 \n",
       "\n",
       "Coefficients:\n",
       "            Estimate Std. Error t value Pr(>|t|)    \n",
       "(Intercept)  0.83507    0.03762  22.197  < 2e-16 ***\n",
       "idle        -0.02293    0.01834  -1.250  0.21127    \n",
       "inspired     0.34001    0.02434  13.972  < 2e-16 ***\n",
       "intense      0.06641    0.02139   3.105  0.00193 ** \n",
       "interested   0.30715    0.02224  13.810  < 2e-16 ***\n",
       "irritable   -0.31485    0.02201 -14.304  < 2e-16 ***\n",
       "---\n",
       "Signif. codes:  0 ‘***’ 0.001 ‘**’ 0.01 ‘*’ 0.05 ‘.’ 0.1 ‘ ’ 1\n",
       "\n",
       "Residual standard error: 0.7356 on 2004 degrees of freedom\n",
       "Multiple R-squared:  0.3963,\tAdjusted R-squared:  0.3948 \n",
       "F-statistic: 263.1 on 5 and 2004 DF,  p-value: < 2.2e-16\n"
      ]
     },
     "metadata": {},
     "output_type": "display_data"
    }
   ],
   "source": [
    "i_mod <- lm(happy ~ idle + inspired + intense + interested + irritable, data=new_msq)\n",
    "summary(i_mod)"
   ]
  },
  {
   "cell_type": "markdown",
   "metadata": {},
   "source": [
    "#### Linear Model 2\n",
    "\n",
    "In this model, we will combine all these predictors and use: `idle`, `inspired`, `intense`, `interested`, `irritable`, `satisfied`, `scared`, `sleepy`, `strong` and `sociable`."
   ]
  },
  {
   "cell_type": "code",
   "execution_count": 5,
   "metadata": {},
   "outputs": [
    {
     "data": {
      "text/plain": [
       "\n",
       "Call:\n",
       "lm(formula = happy ~ idle + inspired + intense + interested + \n",
       "    irritable + satisfied + scared + sleepy + strong + sociable, \n",
       "    data = new_msq)\n",
       "\n",
       "Residuals:\n",
       "     Min       1Q   Median       3Q      Max \n",
       "-2.10728 -0.42594 -0.03228  0.36560  2.58635 \n",
       "\n",
       "Coefficients:\n",
       "            Estimate Std. Error t value Pr(>|t|)    \n",
       "(Intercept)  0.21868    0.04396   4.974 7.10e-07 ***\n",
       "idle        -0.01483    0.01624  -0.913   0.3613    \n",
       "inspired     0.19077    0.02164   8.814  < 2e-16 ***\n",
       "intense     -0.01444    0.02022  -0.714   0.4752    \n",
       "interested   0.12139    0.02019   6.012 2.17e-09 ***\n",
       "irritable   -0.13968    0.02032  -6.875 8.28e-12 ***\n",
       "satisfied    0.31007    0.02009  15.437  < 2e-16 ***\n",
       "scared      -0.05369    0.02987  -1.798   0.0724 .  \n",
       "sleepy      -0.01667    0.01459  -1.142   0.2535    \n",
       "strong       0.11255    0.01959   5.745 1.06e-08 ***\n",
       "sociable     0.25358    0.01995  12.712  < 2e-16 ***\n",
       "---\n",
       "Signif. codes:  0 ‘***’ 0.001 ‘**’ 0.01 ‘*’ 0.05 ‘.’ 0.1 ‘ ’ 1\n",
       "\n",
       "Residual standard error: 0.627 on 1999 degrees of freedom\n",
       "Multiple R-squared:  0.5626,\tAdjusted R-squared:  0.5604 \n",
       "F-statistic: 257.1 on 10 and 1999 DF,  p-value: < 2.2e-16\n"
      ]
     },
     "metadata": {},
     "output_type": "display_data"
    }
   ],
   "source": [
    "is_mod <- lm(happy ~ idle + inspired + intense + interested + irritable +\n",
    "             satisfied + scared + sleepy + strong + sociable, data = new_msq)\n",
    "summary(is_mod)"
   ]
  },
  {
   "cell_type": "markdown",
   "metadata": {},
   "source": [
    "#### Difference in MSE\n",
    "\n",
    "This is another measure we will take a look at: did the new model reduce error/noise?"
   ]
  },
  {
   "cell_type": "code",
   "execution_count": 6,
   "metadata": {},
   "outputs": [
    {
     "data": {
      "text/html": [
       "0.148550817574103"
      ],
      "text/latex": [
       "0.148550817574103"
      ],
      "text/markdown": [
       "0.148550817574103"
      ],
      "text/plain": [
       "[1] 0.1485508"
      ]
     },
     "metadata": {},
     "output_type": "display_data"
    }
   ],
   "source": [
    "mse1 <- mean(i_mod$residuals^2)\n",
    "mse2 <- mean(is_mod$residuals^2)\n",
    "\n",
    "mse1-mse2"
   ]
  },
  {
   "cell_type": "markdown",
   "metadata": {},
   "source": [
    "### Cross Validation"
   ]
  },
  {
   "cell_type": "markdown",
   "metadata": {},
   "source": [
    "We want to first partition the data into a training set and a test set. We will do a 75-25 split."
   ]
  },
  {
   "cell_type": "code",
   "execution_count": 7,
   "metadata": {},
   "outputs": [],
   "source": [
    "require(caTools)\n",
    "set.seed(101)\n",
    "\n",
    "sample <- sample.split(new_msq[,1], SplitRatio = .75)\n",
    "train <- subset(new_msq, sample == TRUE)\n",
    "test <- subset(new_msq, sample == FALSE)"
   ]
  },
  {
   "cell_type": "code",
   "execution_count": 8,
   "metadata": {},
   "outputs": [
    {
     "data": {
      "text/html": [
       "1507"
      ],
      "text/latex": [
       "1507"
      ],
      "text/markdown": [
       "1507"
      ],
      "text/plain": [
       "[1] 1507"
      ]
     },
     "metadata": {},
     "output_type": "display_data"
    }
   ],
   "source": [
    "nrow(train)"
   ]
  },
  {
   "cell_type": "code",
   "execution_count": 9,
   "metadata": {
    "scrolled": true
   },
   "outputs": [
    {
     "data": {
      "text/html": [
       "503"
      ],
      "text/latex": [
       "503"
      ],
      "text/markdown": [
       "503"
      ],
      "text/plain": [
       "[1] 503"
      ]
     },
     "metadata": {},
     "output_type": "display_data"
    }
   ],
   "source": [
    "nrow(test)"
   ]
  },
  {
   "cell_type": "markdown",
   "metadata": {},
   "source": [
    "Now we will run our linear model through cross validation to see if the statistics we got is representative when the data is shuffled. We will do a 20-fold CV.\n",
    "\n",
    "Again, **ONLY USE TRAINING DATA HERE**."
   ]
  },
  {
   "cell_type": "code",
   "execution_count": 10,
   "metadata": {},
   "outputs": [],
   "source": [
    "n.folds <- 20\n",
    "folds <- cut(seq(1,nrow(train)),breaks=n.folds,labels=FALSE)"
   ]
  },
  {
   "cell_type": "markdown",
   "metadata": {},
   "source": [
    "We will create some empty arrays to collect the models and the statistics."
   ]
  },
  {
   "cell_type": "code",
   "execution_count": 11,
   "metadata": {},
   "outputs": [],
   "source": [
    "MSE.imod <- array(data=0, dim = n.folds)    # Space for MSE\n",
    "MSE.ismod <- array(data=0, dim = n.folds)\n",
    "\n",
    "DE.i.is <- array(data=0, dim = n.folds)     # Space for differences in MSE\n",
    "R2.i.is <- array(data=0, dim = n.folds)     # Space for R2"
   ]
  },
  {
   "cell_type": "markdown",
   "metadata": {},
   "source": [
    "Now we will use a for-loop to help us run cross validation."
   ]
  },
  {
   "cell_type": "code",
   "execution_count": 12,
   "metadata": {},
   "outputs": [],
   "source": [
    "for(i in 1:n.folds){\n",
    "    \n",
    "    #Segement your data by fold using the which() function \n",
    "    validateIdx <- which(folds==i,arr.ind=TRUE)\n",
    "    validateData <- train[validateIdx, ]\n",
    "    trainData <- train[-validateIdx, ]\n",
    "\n",
    "    # Fit the threes models\n",
    "    i_lmod <- lm(happy ~ idle + inspired + intense + interested + irritable, \n",
    "                 data=trainData)\n",
    "    is_lmod <- lm(happy ~ idle + inspired + intense + interested + irritable + \n",
    "                  satisfied + scared + sleepy + strong + sociable,\n",
    "                  data = trainData)\n",
    "    \n",
    "    # Get predictions with validation data\n",
    "    i_preds <- predict(i_lmod, validateData)\n",
    "    is_preds <- predict(is_lmod, validateData)\n",
    "    \n",
    "    # Calculate the mean square errors.\n",
    "    y <- validateData$happy\n",
    "    MSE.imod[i] <- mean((y - i_preds)^2)\n",
    "    MSE.ismod[i] <- mean((y - is_preds)^2)\n",
    "\n",
    "    # Differences in error: (note - this can also be calculated outside the loop)\n",
    "    DE.i.is[i] <- MSE.imod[i] - MSE.ismod[i]\n",
    "    \n",
    "    # Calculate R2 for the nested models. (this can also be done outside the loop)\n",
    "    R2.i.is[i] <- 1 - (MSE.ismod[i]/MSE.imod[i])\n",
    "}"
   ]
  },
  {
   "cell_type": "markdown",
   "metadata": {},
   "source": [
    "We can then look at the averaged results from our cross validation, and compare it with our ANOVA. "
   ]
  },
  {
   "cell_type": "code",
   "execution_count": 13,
   "metadata": {},
   "outputs": [
    {
     "data": {
      "text/html": [
       "'The average MSE for the model 1 was 0.54'"
      ],
      "text/latex": [
       "'The average MSE for the model 1 was 0.54'"
      ],
      "text/markdown": [
       "'The average MSE for the model 1 was 0.54'"
      ],
      "text/plain": [
       "[1] \"The average MSE for the model 1 was 0.54\""
      ]
     },
     "metadata": {},
     "output_type": "display_data"
    },
    {
     "data": {
      "text/html": [
       "'The average MSE for the model 2 was 0.392'"
      ],
      "text/latex": [
       "'The average MSE for the model 2 was 0.392'"
      ],
      "text/markdown": [
       "'The average MSE for the model 2 was 0.392'"
      ],
      "text/plain": [
       "[1] \"The average MSE for the model 2 was 0.392\""
      ]
     },
     "metadata": {},
     "output_type": "display_data"
    },
    {
     "data": {
      "text/html": [
       "'The average R-squared for comparison between model 1 and 2 was 0.27'"
      ],
      "text/latex": [
       "'The average R-squared for comparison between model 1 and 2 was 0.27'"
      ],
      "text/markdown": [
       "'The average R-squared for comparison between model 1 and 2 was 0.27'"
      ],
      "text/plain": [
       "[1] \"The average R-squared for comparison between model 1 and 2 was 0.27\""
      ]
     },
     "metadata": {},
     "output_type": "display_data"
    }
   ],
   "source": [
    "paste0(\"The average MSE for the model 1 was \", round(mean(MSE.imod),3))\n",
    "paste0(\"The average MSE for the model 2 was \", round(mean(MSE.ismod),3))\n",
    "paste0(\"The average R-squared for comparison between model 1 and 2 was \",\n",
    "       round(mean(R2.i.is),3))"
   ]
  },
  {
   "cell_type": "markdown",
   "metadata": {},
   "source": [
    "We can plot and see what the average differences in MSE are, and where our original model stand."
   ]
  },
  {
   "cell_type": "code",
   "execution_count": 14,
   "metadata": {},
   "outputs": [
    {
     "data": {
      "text/html": [
       "<style>\n",
       ".list-inline {list-style: none; margin:0; padding: 0}\n",
       ".list-inline>li {display: inline-block}\n",
       ".list-inline>li:not(:last-child)::after {content: \"\\00b7\"; padding: 0 .5ex}\n",
       "</style>\n",
       "<ol class=list-inline><li>0.0150150364961</li><li>0.280533379511456</li></ol>\n"
      ],
      "text/latex": [
       "\\begin{enumerate*}\n",
       "\\item 0.0150150364961\n",
       "\\item 0.280533379511456\n",
       "\\end{enumerate*}\n"
      ],
      "text/markdown": [
       "1. 0.0150150364961\n",
       "2. 0.280533379511456\n",
       "\n",
       "\n"
      ],
      "text/plain": [
       "[1] 0.01501504 0.28053338"
      ]
     },
     "metadata": {},
     "output_type": "display_data"
    },
    {
     "data": {
      "image/png": "[encoded data removed]",
      "text/plain": [
       "Plot with title “Histogram of DE.i.is”"
      ]
     },
     "metadata": {
      "image/png": {
       "height": 420,
       "width": 420
      }
     },
     "output_type": "display_data"
    }
   ],
   "source": [
    "mean_i_is <- mean(DE.i.is)\n",
    "se_i_is <- sd(DE.i.is)\n",
    "c(mean_i_is-2*se_i_is, mean_i_is+2*se_i_is)\n",
    "hist(DE.i.is)\n",
    "abline(v=c(mean_i_is-2*se_i_is, mean_i_is+2*se_i_is), col=\"red\")\n",
    "\n",
    "abline(v=c(mse1-mse2), col=\"blue\")"
   ]
  },
  {
   "cell_type": "markdown",
   "metadata": {},
   "source": [
    "#### Testing\n",
    "\n",
    "Now let's run our 2 models to predict our test data, and see how we do."
   ]
  },
  {
   "cell_type": "code",
   "execution_count": 15,
   "metadata": {},
   "outputs": [],
   "source": [
    "i_preds_test <- predict(i_lmod, test)\n",
    "is_preds_test <- predict(is_lmod, test)"
   ]
  },
  {
   "cell_type": "code",
   "execution_count": 16,
   "metadata": {},
   "outputs": [
    {
     "data": {
      "text/html": [
       "0.143637918128673"
      ],
      "text/latex": [
       "0.143637918128673"
      ],
      "text/markdown": [
       "0.143637918128673"
      ],
      "text/plain": [
       "[1] 0.1436379"
      ]
     },
     "metadata": {},
     "output_type": "display_data"
    }
   ],
   "source": [
    "y <- test$happy\n",
    "mse1_test <- mean((y - i_preds_test)^2)\n",
    "mse2_test <- mean((y - is_preds_test)^2)\n",
    "\n",
    "mse1_test - mse2_test"
   ]
  },
  {
   "cell_type": "markdown",
   "metadata": {},
   "source": [
    "This is actually pretty close to what we had with our training set original models, as well as our cross validation results. We can plot this onto our histogram as well."
   ]
  },
  {
   "cell_type": "code",
   "execution_count": 17,
   "metadata": {},
   "outputs": [
    {
     "data": {
      "text/html": [
       "<style>\n",
       ".list-inline {list-style: none; margin:0; padding: 0}\n",
       ".list-inline>li {display: inline-block}\n",
       ".list-inline>li:not(:last-child)::after {content: \"\\00b7\"; padding: 0 .5ex}\n",
       "</style>\n",
       "<ol class=list-inline><li>0.0150150364961</li><li>0.280533379511456</li></ol>\n"
      ],
      "text/latex": [
       "\\begin{enumerate*}\n",
       "\\item 0.0150150364961\n",
       "\\item 0.280533379511456\n",
       "\\end{enumerate*}\n"
      ],
      "text/markdown": [
       "1. 0.0150150364961\n",
       "2. 0.280533379511456\n",
       "\n",
       "\n"
      ],
      "text/plain": [
       "[1] 0.01501504 0.28053338"
      ]
     },
     "metadata": {},
     "output_type": "display_data"
    },
    {
     "data": {
      "image/png": "[encoded data removed]",
      "text/plain": [
       "Plot with title “Histogram of DE.i.is”"
      ]
     },
     "metadata": {
      "image/png": {
       "height": 420,
       "width": 420
      }
     },
     "output_type": "display_data"
    }
   ],
   "source": [
    "mean_i_is <- mean(DE.i.is)\n",
    "se_i_is <- sd(DE.i.is)\n",
    "c(mean_i_is-2*se_i_is, mean_i_is+2*se_i_is)\n",
    "hist(DE.i.is)\n",
    "abline(v=c(mean_i_is-2*se_i_is, mean_i_is+2*se_i_is), col=\"red\")\n",
    "\n",
    "abline(v=c(mse1-mse2), col=\"blue\")\n",
    "abline(v=c(mse1_test-mse2_test), col=\"green\")"
   ]
  },
  {
   "cell_type": "markdown",
   "metadata": {},
   "source": [
    "#### Exercise\n",
    "\n",
    "There is another statistic in the model we have computed and stored, the $R^2$ of the nested model. Repeat this whole process and see if we can get similar results for $R^2$ as the differences in MSE we have calculated here. "
   ]
  },
  {
   "cell_type": "code",
   "execution_count": null,
   "metadata": {},
   "outputs": [],
   "source": []
  }
 ],
 "metadata": {
  "kernelspec": {
   "display_name": "R",
   "language": "R",
   "name": "ir"
  },
  "language_info": {
   "codemirror_mode": "r",
   "file_extension": ".r",
   "mimetype": "text/x-r-source",
   "name": "R",
   "pygments_lexer": "r",
   "version": "4.0.4"
  }
 },
 "nbformat": 4,
 "nbformat_minor": 4
}
